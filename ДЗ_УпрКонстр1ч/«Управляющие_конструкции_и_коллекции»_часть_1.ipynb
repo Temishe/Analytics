{
 "cells": [
  {
   "cell_type": "markdown",
   "metadata": {},
   "source": [
    "## Задание 1"
   ]
  },
  {
   "cell_type": "code",
   "execution_count": 1,
   "metadata": {},
   "outputs": [
    {
     "name": "stdout",
     "output_type": "stream",
     "text": [
      "Результат:\n",
      "а\n"
     ]
    }
   ],
   "source": [
    "word = 'задание'\n",
    "\n",
    "if len(word) % 2 == 0:\n",
    "    print('Результат:')\n",
    "    print(word[(len(word)//2)-1: ((len(word)//2)+1)])\n",
    "else:\n",
    "    print('Результат:')\n",
    "    print(word[len(word)//2])"
   ]
  },
  {
   "cell_type": "markdown",
   "metadata": {},
   "source": [
    "## Задание 2"
   ]
  },
  {
   "cell_type": "code",
   "execution_count": 2,
   "metadata": {},
   "outputs": [
    {
     "name": "stdout",
     "output_type": "stream",
     "text": [
      "Введите число:1\n",
      "Введите число:2\n",
      "Введите число:0\n",
      "Результат:\n",
      "3\n"
     ]
    }
   ],
   "source": [
    "number = int(input('Введите число:'))\n",
    "summ = [0]\n",
    "while number != 0:\n",
    "    summ.append(number)\n",
    "    number = int(input('Введите число:'))\n",
    "print('Результат:')\n",
    "print(sum(summ))"
   ]
  },
  {
   "cell_type": "markdown",
   "metadata": {},
   "source": [
    "## Задание 3"
   ]
  },
  {
   "cell_type": "code",
   "execution_count": 3,
   "metadata": {},
   "outputs": [
    {
     "name": "stdout",
     "output_type": "stream",
     "text": [
      "Результат: \n",
      "Идеальные пары: \n",
      "Alex и Emma\n",
      "Arthur и Kate\n",
      "John и Lisa\n",
      "Peter и Natasha\n",
      "Richard и Trisha\n"
     ]
    }
   ],
   "source": [
    "boys = ['Peter','Alex','John','Arthur','Richard']\n",
    "girls = ['Kate','Lisa','Natasha','Emma','Trisha']\n",
    "\n",
    "boys_s = sorted(boys)\n",
    "girls_s = sorted(girls)\n",
    "\n",
    "if len(boys) == len(girls):\n",
    "    print('Результат: ')\n",
    "    print('Идеальные пары: ') \n",
    "    num_g = 0\n",
    "    for result in boys_s:\n",
    "        print(result, 'и', girls_s[num_g])\n",
    "        num_g = num_g + 1\n",
    "\n",
    "else:\n",
    "    print('Результат: ')\n",
    "    print('Внимание, кто-то может остаться без пары!') "
   ]
  },
  {
   "cell_type": "markdown",
   "metadata": {},
   "source": [
    "## Задание 4\n",
    "\n",
    "Код работает, но он кажется громоздким. Буду признателен, если подскажете, как это можно было бы сделать элегантнее."
   ]
  },
  {
   "cell_type": "code",
   "execution_count": 4,
   "metadata": {},
   "outputs": [
    {
     "name": "stdout",
     "output_type": "stream",
     "text": [
      "Результат:\n",
      "Средняя температура в странах:\n",
      "Thailand - 23.9 C\n",
      "Germany - 13.8 C\n",
      "Russia - 3.7 C\n",
      "Poland - 12.0 C\n"
     ]
    }
   ],
   "source": [
    "countries_temperature = [\n",
    "['Thailand', [75.2, 77, 78.8, 73.4, 68, 75.2, 77]],\n",
    "['Germany', [57.2, 55.4, 59, 59, 53.6]],\n",
    "['Russia', [35.6, 37.4, 39.2, 41, 42.8, 39.2, 35.6]],\n",
    "['Poland', [50, 50, 53.6, 57.2, 55.4, 55.4]]\n",
    "]\n",
    "country_1 = countries_temperature[0][0]\n",
    "country_1_t = countries_temperature[0][1]\n",
    "country_2 = countries_temperature[1][0]\n",
    "country_2_t = countries_temperature[1][1]\n",
    "country_3 = countries_temperature[2][0]\n",
    "country_3_t = countries_temperature[2][1]\n",
    "country_4 = countries_temperature[3][0]\n",
    "country_4_t = countries_temperature[3][1]\n",
    "\n",
    "# Первая страна:\n",
    "cels_t_1 = [1]\n",
    "for far_t_1 in country_1_t:\n",
    "    cel_t_1 = (far_t_1 - 32) * (5/9)\n",
    "    cels_t_1.append(cel_t_1)    \n",
    "cels_t_1.remove(1)\n",
    "cels_final_1 = (sum(cels_t_1))/len(cels_t_1)\n",
    "cels_final_1 = float('{:.1f}'.format(cels_final_1))\n",
    "\n",
    "# Вторая страна:\n",
    "cels_t_2 = [1]\n",
    "for far_t_2 in country_2_t:\n",
    "    cel_t_2 = (far_t_2 - 32) * (5/9)\n",
    "    cels_t_2.append(cel_t_2)    \n",
    "cels_t_2.remove(1)\n",
    "cels_final_2 = (sum(cels_t_2))/len(cels_t_2)\n",
    "\n",
    "# Третья страна:\n",
    "cels_t_3 = [1]\n",
    "for far_t_3 in country_3_t:\n",
    "    cel_t_3 = (far_t_3 - 32) * (5/9)\n",
    "    cels_t_3.append(cel_t_3)    \n",
    "cels_t_3.remove(1)\n",
    "cels_final_3 = (sum(cels_t_3))/len(cels_t_3)\n",
    "cels_final_3 = float('{:.1f}'.format(cels_final_3))\n",
    "\n",
    "# Четвертая страна:\n",
    "cels_t_4 = [1]\n",
    "for far_t_4 in country_4_t:\n",
    "    cel_t_4 = (far_t_4 - 32) * (5/9)\n",
    "    cels_t_4.append(cel_t_4)    \n",
    "cels_t_4.remove(1)\n",
    "cels_final_4 = (sum(cels_t_4))/len(cels_t_4)\n",
    "\n",
    "# Итоги:\n",
    "print('Результат:')\n",
    "print('Средняя температура в странах:')\n",
    "print(f'{country_1} - {cels_final_1} C')\n",
    "print(f'{country_2} - {cels_final_2} C')\n",
    "print(f'{country_3} - {cels_final_3} C')\n",
    "print(f'{country_4} - {cels_final_4} C')"
   ]
  },
  {
   "cell_type": "markdown",
   "metadata": {},
   "source": [
    "## Задание 5 \n",
    "\n",
    "То же, что и с 4м заданием - явно можно было бы проще"
   ]
  },
  {
   "cell_type": "code",
   "execution_count": 1,
   "metadata": {},
   "outputs": [
    {
     "name": "stdout",
     "output_type": "stream",
     "text": [
      "Результат:\n",
      "Среднее количество просмотров на уникального пользователя: 23.25\n"
     ]
    }
   ],
   "source": [
    "stream = [\n",
    "'2018-01-01,user1,3',\n",
    "'2018-01-07,user1,4',\n",
    "'2018-03-29,user1,1',\n",
    "'2018-04-04,user1,13',\n",
    "'2018-01-05,user2,7',\n",
    "'2018-06-14,user3,4',\n",
    "'2018-07-02,user3,10',\n",
    "'2018-03-21,user4,19',\n",
    "'2018-03-22,user4,4',\n",
    "'2018-04-22,user4,8',\n",
    "'2018-05-03,user4,9',\n",
    "'2018-05-11,user4,11',\n",
    "]\n",
    "\n",
    "aa = 0\n",
    "bb = [1]\n",
    "for dd in stream:\n",
    "    dd = stream[aa].split(',')\n",
    "    bb.append(dd)\n",
    "    aa = aa + 1\n",
    "del(bb[0])\n",
    "\n",
    "cc = 0\n",
    "abc = [1]\n",
    "for jj in bb:\n",
    "    jj = bb[cc][1]\n",
    "    abc.append([jj])\n",
    "    cc = cc + 1\n",
    "\n",
    "del(abc[0])\n",
    "\n",
    "length = int(len(abc)) - 1\n",
    "    \n",
    "while length != 0:\n",
    "    abc[0].extend(abc[length])\n",
    "    length = length - 1\n",
    "\n",
    "abc = abc [0]\n",
    "\n",
    "abc = list(set(abc))\n",
    "unique = len(abc) \n",
    "\n",
    "# unique - количество уникальных пользователей\n",
    "\n",
    "nu = []\n",
    "fg = 0\n",
    "for tj in bb:\n",
    "    tj = bb[fg][2]\n",
    "    nu.append(tj)\n",
    "    fg = fg + 1\n",
    "\n",
    "# nu - посещения\n",
    "\n",
    "zero = [0]\n",
    "\n",
    "while fg != len(nu):\n",
    "    final = zero + nu[fg]\n",
    "    fg = fg + 1\n",
    "    \n",
    "nu = ' '.join(nu)\n",
    "\n",
    "# Нашел кусок кода на сложение чисел в строке\n",
    "def f(s):\n",
    "    total, current = 0, ''\n",
    "    for ch in s:\n",
    "        if ch.isdigit():\n",
    "            current += ch\n",
    "        elif current!='':\n",
    "            total += int(current)\n",
    "            current = ''\n",
    "    if current!='':\n",
    "        total += int(current)\n",
    "    return total\n",
    " \n",
    "new = f(nu) # new - сумма посещений\n",
    "\n",
    "print('Результат:')\n",
    "print(f'Среднее количество просмотров на уникального пользователя: {new / unique}') "
   ]
  },
  {
   "cell_type": "markdown",
   "metadata": {},
   "source": [
    "## Задание 6\n"
   ]
  },
  {
   "cell_type": "code",
   "execution_count": 1,
   "metadata": {},
   "outputs": [
    {
     "name": "stdout",
     "output_type": "stream",
     "text": [
      "Введите набор чисел через пробел:1 1 2 2 3\n",
      "Результат:\n",
      "1 2\n"
     ]
    }
   ],
   "source": [
    "number = input('Введите набор чисел через пробел:')\n",
    "\n",
    "double = list(number)\n",
    "\n",
    "# Удаляю пробелы\n",
    "double = [x for x in double if x != ' ']\n",
    "\n",
    "# Ищу повторения\n",
    "from collections import Counter\n",
    "double = [k for k,v in Counter(double).items() if v>1]\n",
    "\n",
    "# Чтобы было красиво\n",
    "double = ' '.join(double) \n",
    "\n",
    "print('Результат:')\n",
    "print(double)"
   ]
  },
  {
   "cell_type": "code",
   "execution_count": null,
   "metadata": {},
   "outputs": [],
   "source": []
  }
 ],
 "metadata": {
  "kernelspec": {
   "display_name": "Python 3",
   "language": "python",
   "name": "python3"
  },
  "language_info": {
   "codemirror_mode": {
    "name": "ipython",
    "version": 3
   },
   "file_extension": ".py",
   "mimetype": "text/x-python",
   "name": "python",
   "nbconvert_exporter": "python",
   "pygments_lexer": "ipython3",
   "version": "3.8.5"
  }
 },
 "nbformat": 4,
 "nbformat_minor": 4
}
