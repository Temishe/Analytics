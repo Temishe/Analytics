{
 "cells": [
  {
   "cell_type": "markdown",
   "metadata": {},
   "source": [
    "## Задание 1"
   ]
  },
  {
   "cell_type": "code",
   "execution_count": 1,
   "metadata": {},
   "outputs": [
    {
     "name": "stdout",
     "output_type": "stream",
     "text": [
      "Результат:\n",
      "а\n"
     ]
    }
   ],
   "source": [
    "word = 'задание'\n",
    "\n",
    "if len(word) % 2 == 0:\n",
    "    print('Результат:')\n",
    "    print(word[(len(word)//2)-1: ((len(word)//2)+1)])\n",
    "else:\n",
    "    print('Результат:')\n",
    "    print(word[len(word)//2])"
   ]
  },
  {
   "cell_type": "markdown",
   "metadata": {},
   "source": [
    "## Задание 2"
   ]
  },
  {
   "cell_type": "code",
   "execution_count": 2,
   "metadata": {},
   "outputs": [
    {
     "name": "stdout",
     "output_type": "stream",
     "text": [
      "Введите число:1\n",
      "Введите число:2\n",
      "Введите число:0\n",
      "Результат:\n",
      "3\n"
     ]
    }
   ],
   "source": [
    "number = int(input('Введите число:'))\n",
    "summ = [0]\n",
    "while number != 0:\n",
    "    summ.append(number)\n",
    "    number = int(input('Введите число:'))\n",
    "print('Результат:')\n",
    "print(sum(summ))"
   ]
  },
  {
   "cell_type": "markdown",
   "metadata": {},
   "source": [
    "## Задание 3\n",
    "Переместил сортировку в цикл"
   ]
  },
  {
   "cell_type": "code",
   "execution_count": 3,
   "metadata": {},
   "outputs": [
    {
     "name": "stdout",
     "output_type": "stream",
     "text": [
      "Результат: \n",
      "Идеальные пары: \n",
      "Alex и Emma\n",
      "Arthur и Kate\n",
      "John и Lisa\n",
      "Peter и Natasha\n",
      "Richard и Trisha\n"
     ]
    }
   ],
   "source": [
    "boys = ['Peter','Alex','John','Arthur','Richard']\n",
    "girls = ['Kate','Lisa','Natasha','Emma','Trisha']\n",
    "\n",
    "if len(boys) == len(girls):\n",
    "    print('Результат: ')\n",
    "    print('Идеальные пары: ') \n",
    "    boys_s = sorted(boys)\n",
    "    girls_s = sorted(girls)\n",
    "    num_g = 0\n",
    "    for result in boys_s:\n",
    "        print(result, 'и', girls_s[num_g])\n",
    "        num_g = num_g + 1\n",
    "\n",
    "else:\n",
    "    print('Результат: ')\n",
    "    print('Внимание, кто-то может остаться без пары!') "
   ]
  },
  {
   "cell_type": "markdown",
   "metadata": {},
   "source": [
    "## Задание 4\n",
    "\n",
    "Переписал"
   ]
  },
  {
   "cell_type": "code",
   "execution_count": 5,
   "metadata": {},
   "outputs": [
    {
     "name": "stdout",
     "output_type": "stream",
     "text": [
      "Результат:\n",
      " \n",
      "Средняя температура в странах:\n",
      "Thailand - 23.9 C\n",
      "Germany - 19.7 C\n",
      "Russia - 13.8 C\n",
      "Poland - 13.4 C\n"
     ]
    }
   ],
   "source": [
    "countries_temperature = [\n",
    "['Thailand', [75.2, 77, 78.8, 73.4, 68, 75.2, 77]],\n",
    "['Germany', [57.2, 55.4, 59, 59, 53.6]],\n",
    "['Russia', [35.6, 37.4, 39.2, 41, 42.8, 39.2, 35.6]],\n",
    "['Poland', [50, 50, 53.6, 57.2, 55.4, 55.4]]\n",
    "]\n",
    "\n",
    "print('Результат:')\n",
    "print(' ')\n",
    "print('Средняя температура в странах:')\n",
    "tempr = []\n",
    "for contr, temp in countries_temperature:\n",
    "    for temp_1 in temp:\n",
    "        temp_1 = (temp_1 - 32) * (5/9)\n",
    "        tempr.append(temp_1)  \n",
    "    temp_final = (sum(tempr))/len(tempr)\n",
    "    print(f\"{contr} - {float('{:.1f}'.format(temp_final))} C\")"
   ]
  },
  {
   "cell_type": "markdown",
   "metadata": {},
   "source": [
    "## Задание 5 \n",
    "\n",
    "Переписал\n"
   ]
  },
  {
   "cell_type": "code",
   "execution_count": 12,
   "metadata": {},
   "outputs": [
    {
     "name": "stdout",
     "output_type": "stream",
     "text": [
      "Результат:\n",
      "Среднее количество просмотров на уникального пользователя: 23.25\n"
     ]
    }
   ],
   "source": [
    "stream = [\n",
    "'2018-01-01,user1,3',\n",
    "'2018-01-07,user1,4',\n",
    "'2018-03-29,user1,1',\n",
    "'2018-04-04,user1,13',\n",
    "'2018-01-05,user2,7',\n",
    "'2018-06-14,user3,4',\n",
    "'2018-07-02,user3,10',\n",
    "'2018-03-21,user4,19',\n",
    "'2018-03-22,user4,4',\n",
    "'2018-04-22,user4,8',\n",
    "'2018-05-03,user4,9',\n",
    "'2018-05-11,user4,11',\n",
    "]\n",
    "\n",
    "views = 0\n",
    "user_list = []\n",
    "\n",
    "for s in stream:\n",
    "    splitted_s = s.split(',')\n",
    "    views += int(splitted_s[2])\n",
    "    if splitted_s[1] not in user_list:\n",
    "        user_list.append(splitted_s[1])\n",
    "\n",
    "print('Результат:')\n",
    "print(f'Среднее количество просмотров на уникального пользователя: {views / len(user_list)}')"
   ]
  },
  {
   "cell_type": "markdown",
   "metadata": {},
   "source": [
    "## Задание 6\n",
    "Переписал\n"
   ]
  },
  {
   "cell_type": "code",
   "execution_count": 7,
   "metadata": {},
   "outputs": [
    {
     "name": "stdin",
     "output_type": "stream",
     "text": [
      "Введите набор чисел через пробел: 1 1 12 12\n"
     ]
    },
    {
     "name": "stdout",
     "output_type": "stream",
     "text": [
      "['1', '12']\n"
     ]
    }
   ],
   "source": [
    "numbers = input('Введите набор чисел через пробел:')\n",
    "\n",
    "numbers = numbers.split()\n",
    "\n",
    "numbers_repeat = []\n",
    "\n",
    "for i in numbers:\n",
    "    if i not in numbers_repeat and numbers.count(i) > 1:\n",
    "        numbers_repeat.append(i)\n",
    "        \n",
    "print (numbers_repeat)"
   ]
  },
  {
   "cell_type": "code",
   "execution_count": null,
   "metadata": {},
   "outputs": [],
   "source": []
  }
 ],
 "metadata": {
  "kernelspec": {
   "display_name": "Python 3",
   "language": "python",
   "name": "python3"
  },
  "language_info": {
   "codemirror_mode": {
    "name": "ipython",
    "version": 3
   },
   "file_extension": ".py",
   "mimetype": "text/x-python",
   "name": "python",
   "nbconvert_exporter": "python",
   "pygments_lexer": "ipython3",
   "version": "3.8.5"
  }
 },
 "nbformat": 4,
 "nbformat_minor": 4
}
