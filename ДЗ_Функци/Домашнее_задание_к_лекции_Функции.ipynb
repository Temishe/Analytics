{
 "cells": [
  {
   "cell_type": "code",
   "execution_count": 50,
   "metadata": {},
   "outputs": [],
   "source": [
    "documents = [\n",
    "{'type': 'passport', 'number': '2207 876234', 'name': 'Василий Гупкин'},\n",
    "{'type': 'invoice', 'number': '11-2', 'name': 'Геннадий Покемонов'},\n",
    "{'type': 'insurance', 'number': '10006', 'name': 'Аристарх Павлов'}\n",
    "]\n",
    "\n",
    "directories = {\n",
    "'1': ['2207 876234', '11-2'],\n",
    "'2': ['10006'],\n",
    "'3': []\n",
    "}"
   ]
  },
  {
   "cell_type": "code",
   "execution_count": 51,
   "metadata": {},
   "outputs": [],
   "source": [
    "# Задание 1 - по номеру найти владельца ГОТОВО\n",
    "\n",
    "def owner():\n",
    "    user_input = input('Введите номер документа(владелец): ')\n",
    "    for i in documents:\n",
    "        if i['number'] == str(user_input):\n",
    "            return print(str(f'Владелец документа: {i[\"name\"]}'))\n",
    "    return print('нет такого') \n",
    "            \n",
    "#owner()"
   ]
  },
  {
   "cell_type": "code",
   "execution_count": 52,
   "metadata": {},
   "outputs": [],
   "source": [
    "# Задание 2 - по номеру найти полку ГОТОВО\n",
    "\n",
    "\n",
    "def direct():\n",
    "    user_input = input(str('Введите номер документа(полка): '))\n",
    "    check = list(directories.items())\n",
    "    \n",
    "    for i in check:\n",
    "        for b in i[1]:\n",
    "            if b == user_input:\n",
    "                return print(f'Документ храниться на полке: {i[0]}')\n",
    "    return print('Документ не найденр в базе')\n",
    "#direct()"
   ]
  },
  {
   "cell_type": "code",
   "execution_count": 53,
   "metadata": {},
   "outputs": [
    {
     "name": "stdout",
     "output_type": "stream",
     "text": [
      "Результат: \n",
      "№: 2207 876234, тип: passport, владелец: Василий Гупкин полка: 1\n",
      "№: 11-2, тип: invoice, владелец: Геннадий Покемонов полка: 1\n",
      "№: 10006, тип: insurance, владелец: Аристарх Павлов полка: 2\n"
     ]
    }
   ],
   "source": [
    "# Задание 3 - по запросу показывать всю инфу ГОТОВО\n",
    "\n",
    "def all_in():  \n",
    "    print('Результат: ')\n",
    "    check = list(directories.items())\n",
    "    for i in documents:\n",
    "        for b in check:\n",
    "            for c in b[1]:\n",
    "                 if c == i['number']:\n",
    "                    print(f\"№: {i['number']}, тип: {i['type']}, владелец: {i['name']} полка: {b[0]}\")  \n",
    "all_in()"
   ]
  },
  {
   "cell_type": "code",
   "execution_count": 54,
   "metadata": {},
   "outputs": [],
   "source": [
    "# Задание 4 - добавление новой полки ГОТОВО\n",
    "\n",
    "def add():\n",
    "    user_input = input(str('Введите номер полки(доб): '))\n",
    "    if user_input not in list(directories.keys()):\n",
    "        directories[str(user_input)] = ''#.setdefault(user_input, )\n",
    "        print(f'Полка добавлена. Текущий перечень полок: {list(directories.keys())}')\n",
    "    else:\n",
    "        print(f'Такая полка уже существует. Текущий перечень полок: {list(directories.keys())}')\n",
    "#add()"
   ]
  },
  {
   "cell_type": "code",
   "execution_count": 55,
   "metadata": {},
   "outputs": [],
   "source": [
    "# Задание 5 - удалять полку, если она пустая ГОТОВО\n",
    "\n",
    "def delete():\n",
    "    user_input = input(str('Введите номер полки(удал): '))\n",
    "    if directories[user_input] == []:\n",
    "        del(directories[user_input])\n",
    "        print(f'Полка удалена. Текущий перечень полок:{list(directories.keys())}')\n",
    "    else:\n",
    "        print(f'На полке есть документы, удалите их перед удалением полки. Текущий перечень полок:{directories.keys()}')\n",
    "\n",
    "#delete()"
   ]
  },
  {
   "cell_type": "code",
   "execution_count": null,
   "metadata": {},
   "outputs": [
    {
     "name": "stdin",
     "output_type": "stream",
     "text": [
      "Введите команду:  l\n"
     ]
    },
    {
     "name": "stdout",
     "output_type": "stream",
     "text": [
      "Результат: \n",
      "№: 2207 876234, тип: passport, владелец: Василий Гупкин полка: 1\n",
      "№: 11-2, тип: invoice, владелец: Геннадий Покемонов полка: 1\n",
      "№: 10006, тип: insurance, владелец: Аристарх Павлов полка: 2\n"
     ]
    }
   ],
   "source": [
    "#ФИНАЛ \n",
    "\n",
    "def main():\n",
    "    user_command = input('Введите команду: ')\n",
    "    while user_command != 'q':\n",
    "        if user_command == 'p':\n",
    "            owner()\n",
    "        elif user_command == 's':\n",
    "            direct()\n",
    "        elif user_command == 'l':\n",
    "            all_in()\n",
    "        elif user_command == 'as':\n",
    "            add()\n",
    "        elif user_command == 'ds':\n",
    "            delete()\n",
    "        else:\n",
    "            print('Неправильная команда')\n",
    "        user_command = input('Введите команду: ')\n",
    "        \n",
    "main()"
   ]
  },
  {
   "cell_type": "code",
   "execution_count": null,
   "metadata": {},
   "outputs": [],
   "source": []
  }
 ],
 "metadata": {
  "kernelspec": {
   "display_name": "Python 3",
   "language": "python",
   "name": "python3"
  },
  "language_info": {
   "codemirror_mode": {
    "name": "ipython",
    "version": 3
   },
   "file_extension": ".py",
   "mimetype": "text/x-python",
   "name": "python",
   "nbconvert_exporter": "python",
   "pygments_lexer": "ipython3",
   "version": "3.8.5"
  }
 },
 "nbformat": 4,
 "nbformat_minor": 4
}
