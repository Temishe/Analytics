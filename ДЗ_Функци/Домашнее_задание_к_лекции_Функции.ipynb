{
 "cells": [
  {
   "cell_type": "code",
   "execution_count": 13,
   "metadata": {},
   "outputs": [],
   "source": [
    "documents = [\n",
    "{'type': 'passport', 'number': '2207 876234', 'name': 'Василий Гупкин'},\n",
    "{'type': 'invoice', 'number': '11-2', 'name': 'Геннадий Покемонов'},\n",
    "{'type': 'insurance', 'number': '10006', 'name': 'Аристарх Павлов'}\n",
    "]\n",
    "\n",
    "directories = {\n",
    "'1': ['2207 876234', '11-2'],\n",
    "'2': ['10006'],\n",
    "'3': []\n",
    "}"
   ]
  },
  {
   "cell_type": "code",
   "execution_count": 27,
   "metadata": {},
   "outputs": [
    {
     "name": "stdin",
     "output_type": "stream",
     "text": [
      "Введите номер документа(владелец):  10006\n"
     ]
    },
    {
     "name": "stdout",
     "output_type": "stream",
     "text": [
      "Владелец документа: Аристарх Павлов\n"
     ]
    }
   ],
   "source": [
    "# Задание 1 - по номеру найти владельца\n",
    "# Без return пришлось переписать с 2 if:\n",
    "\n",
    "def owner():\n",
    "    user_input = input('Введите номер документа(владелец): ')\n",
    "    answer = []\n",
    "    for i in documents:\n",
    "        if i['number'] == str(user_input):\n",
    "            answer.append(i[\"name\"])\n",
    "        else:\n",
    "            pass\n",
    "    if answer != []:\n",
    "        print(str(f'Владелец документа: {answer[0]}'))\n",
    "    else:\n",
    "        print('Документ не найден в базе')\n",
    "          \n",
    "owner()"
   ]
  },
  {
   "cell_type": "code",
   "execution_count": 17,
   "metadata": {},
   "outputs": [
    {
     "name": "stdin",
     "output_type": "stream",
     "text": [
      "Введите номер документа(полка):  10006\n"
     ]
    },
    {
     "name": "stdout",
     "output_type": "stream",
     "text": [
      "Документ храниться на полке: 2\n"
     ]
    }
   ],
   "source": [
    "# Задание 2 - по номеру найти полку ГОТОВО\n",
    "\n",
    "def direct():\n",
    "    user_input = input(str('Введите номер документа(полка): '))\n",
    "    check = list(directories.items())\n",
    "    \n",
    "    for i in check:\n",
    "        for b in i[1]:\n",
    "            if b == user_input:\n",
    "                return print(f'Документ храниться на полке: {i[0]}')\n",
    "    return print('Документ не найденр в базе')\n",
    "direct()"
   ]
  },
  {
   "cell_type": "code",
   "execution_count": 18,
   "metadata": {},
   "outputs": [
    {
     "name": "stdout",
     "output_type": "stream",
     "text": [
      "№: 2207 876234, тип: passport, владелец: Василий Гупкин, полка хранения: 1\n",
      "№: 11-2, тип: invoice, владелец: Геннадий Покемонов, полка хранения: 1\n",
      "№: 10006, тип: insurance, владелец: Аристарх Павлов, полка хранения: 2\n"
     ]
    }
   ],
   "source": [
    "# Задание 3 - по запросу показывать всю инфу ПОМЕНЯЛ НА ВАШ ВАРИАНТ С 2 ЦИКЛАМИ:\n",
    "\n",
    "def all_in():\n",
    "    for shelf, cont in directories.items():\n",
    "        for doc in documents:\n",
    "            if doc['number'] in cont:\n",
    "                print(f\"№: {doc['number']}, тип: {doc['type']}, владелец: {doc['name']}, полка хранения: {shelf}\") \n",
    "all_in()"
   ]
  },
  {
   "cell_type": "code",
   "execution_count": 19,
   "metadata": {},
   "outputs": [
    {
     "name": "stdin",
     "output_type": "stream",
     "text": [
      "Введите номер полки(доб):  2\n"
     ]
    },
    {
     "name": "stdout",
     "output_type": "stream",
     "text": [
      "Такая полка уже существует. Текущий перечень полок: ['1', '2', '3']\n"
     ]
    }
   ],
   "source": [
    "# Задание 4 - добавление новой полки ПОМЕНЯЛ НА []\n",
    "\n",
    "def add():\n",
    "    user_input = input(str('Введите номер полки(доб): '))\n",
    "    if user_input not in list(directories.keys()):\n",
    "        directories[str(user_input)] = []\n",
    "        print(f'Полка добавлена. Текущий перечень полок: {list(directories.keys())}')\n",
    "    else:\n",
    "        print(f'Такая полка уже существует. Текущий перечень полок: {list(directories.keys())}')\n",
    "add()"
   ]
  },
  {
   "cell_type": "code",
   "execution_count": 21,
   "metadata": {},
   "outputs": [
    {
     "name": "stdin",
     "output_type": "stream",
     "text": [
      "Введите номер полки(удал):  1\n"
     ]
    },
    {
     "name": "stdout",
     "output_type": "stream",
     "text": [
      "На полке есть документы, удалите их перед удалением полки. Текущий перечень полок:['1', '2', '3']\n"
     ]
    }
   ],
   "source": [
    "# Задание 5 - удалять полку, если она пустая ДОБАВИЛ СООБЩЕНИЕ ПРИ ОШИБКЕ\n",
    "\n",
    "def delete():\n",
    "    user_input = input(str('Введите номер полки(удал): '))\n",
    "    if user_input not in list(directories.keys()):\n",
    "        print(f'Полка не найдена. Текущий перечень полок:{list(directories.keys())}')\n",
    "    elif directories[user_input] == []:\n",
    "        del(directories[user_input])\n",
    "        print(f'Полка удалена. Текущий перечень полок:{list(directories.keys())}')\n",
    "    else:\n",
    "        print(f'На полке есть документы, удалите их перед удалением полки. Текущий перечень полок:{list(directories.keys())}')\n",
    "delete()"
   ]
  },
  {
   "cell_type": "code",
   "execution_count": 22,
   "metadata": {},
   "outputs": [
    {
     "name": "stdin",
     "output_type": "stream",
     "text": [
      "Введите команду:  l\n"
     ]
    },
    {
     "name": "stdout",
     "output_type": "stream",
     "text": [
      "№: 2207 876234, тип: passport, владелец: Василий Гупкин, полка хранения: 1\n",
      "№: 11-2, тип: invoice, владелец: Геннадий Покемонов, полка хранения: 1\n",
      "№: 10006, тип: insurance, владелец: Аристарх Павлов, полка хранения: 2\n"
     ]
    },
    {
     "name": "stdin",
     "output_type": "stream",
     "text": [
      "Введите команду:  q\n"
     ]
    }
   ],
   "source": [
    "#ФИНАЛ \n",
    "\n",
    "def main():\n",
    "    user_command = input('Введите команду: ')\n",
    "    while user_command != 'q':\n",
    "        if user_command == 'p':\n",
    "            owner()\n",
    "        elif user_command == 's':\n",
    "            direct()\n",
    "        elif user_command == 'l':\n",
    "            all_in()\n",
    "        elif user_command == 'as':\n",
    "            add()\n",
    "        elif user_command == 'ds':\n",
    "            delete()\n",
    "        else:\n",
    "            print('Неправильная команда')\n",
    "        user_command = input('Введите команду: ')\n",
    "        \n",
    "main()"
   ]
  }
 ],
 "metadata": {
  "kernelspec": {
   "display_name": "Python 3",
   "language": "python",
   "name": "python3"
  },
  "language_info": {
   "codemirror_mode": {
    "name": "ipython",
    "version": 3
   },
   "file_extension": ".py",
   "mimetype": "text/x-python",
   "name": "python",
   "nbconvert_exporter": "python",
   "pygments_lexer": "ipython3",
   "version": "3.8.5"
  }
 },
 "nbformat": 4,
 "nbformat_minor": 4
}
