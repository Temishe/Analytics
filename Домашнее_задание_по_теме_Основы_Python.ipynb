{
 "cells": [
  {
   "cell_type": "markdown",
   "metadata": {},
   "source": [
    "### Задание 1\n",
    "\n",
    "Исправил"
   ]
  },
  {
   "cell_type": "code",
   "execution_count": 1,
   "metadata": {},
   "outputs": [
    {
     "name": "stdout",
     "output_type": "stream",
     "text": [
      "Фраза 1 больше фразы 2\n"
     ]
    }
   ],
   "source": [
    "phrase_1 = 'Насколько проще было бы писать программы, если бы не заказчики'\n",
    "phrase_2 = '640Кб должно хватить для любых задач. Билл Гейтс (по легенде)'\n",
    "\n",
    "if len(phrase_1) > len(phrase_2):\n",
    "    print('Фраза 1 больше фразы 2')\n",
    "elif len(phrase_1) < len(phrase_2):\n",
    "    print('Фраза 2 больше фразы 1')\n",
    "else:\n",
    "    print('Фразы равной длины')   "
   ]
  },
  {
   "cell_type": "markdown",
   "metadata": {},
   "source": [
    "### Задание 2\n",
    "\n",
    "Дополнил"
   ]
  },
  {
   "cell_type": "code",
   "execution_count": 15,
   "metadata": {
    "scrolled": true
   },
   "outputs": [
    {
     "name": "stdout",
     "output_type": "stream",
     "text": [
      "Введите год 2020\n",
      "Результат:\n",
      "Високосный год\n"
     ]
    }
   ],
   "source": [
    "year = int(input('Введите год '))\n",
    "four = year % 4\n",
    "fourt = year % 400\n",
    "hund = year % 100\n",
    "print(\"Результат:\")\n",
    "if hund == 0:\n",
    "    print('Год не високосный')\n",
    "elif four == 0 or fourt == 0:\n",
    "    print('Високосный год')\n",
    "else:\n",
    "    print('Год не високосный')"
   ]
  },
  {
   "cell_type": "markdown",
   "metadata": {},
   "source": [
    "### Задание 3\n",
    "\n",
    "Убрал преобразование в строку\n",
    "Сделал, чтобы все знаки узнавались"
   ]
  },
  {
   "cell_type": "code",
   "execution_count": 22,
   "metadata": {},
   "outputs": [
    {
     "name": "stdout",
     "output_type": "stream",
     "text": [
      "Введите день рождения: 24\n",
      "Введите месяц рождения с большой буквы: Апрель\n",
      "Результат\n",
      "Ваш знак зодиака: Телец\n"
     ]
    }
   ],
   "source": [
    "day = int(input('Введите день рождения: '))\n",
    "month = input('Введите месяц рождения с большой буквы: ')\n",
    "month.capitalize()\n",
    "print('Результат')\n",
    "if(21 <= day <= 31 and month == 'Март') or (1 <= day <= 20 and month == 'Апрель'):\n",
    "    print('Ваш знак зодиака: Овен')\n",
    "elif(21 <= day <= 30 and month == 'Апрель') or (1 <= day <= 21 and month == 'Май'):\n",
    "    print('Ваш знак зодиака: Телец')\n",
    "elif(22 <= day <= 31 and month == 'Май') or (1 <= day <= 21 and month == 'Июнь'):\n",
    "    print('Ваш знак зодиака: Близнецы')\n",
    "elif(22 <= day <= 30 and month == 'Июнь') or (1 <= day <= 22 and month == 'Июль'):\n",
    "    print('Ваш знак зодиака: Рак')\n",
    "elif(23 <= day <= 31 and month == 'Июль') or (1 <= day <= 21 and month == 'Август'):\n",
    "    print('Ваш знак зодиака: Лев')\n",
    "elif(22 <= day <= 31 and month == 'Август') or (1 <= day <= 23 and month == 'Сентябрь'):\n",
    "    print('Ваш знак зодиака: Дева')\n",
    "elif(24 <= day <= 30 and month == 'Сентябрь') or (1 <= day <= 23 and month == 'Октябрь'):\n",
    "    print('Ваш знак зодиака: Весы')\n",
    "elif(24 <= day <= 31 and month == 'Октябрь') or (1 <= day <= 22 and month == 'Ноябрь'):\n",
    "    print('Ваш знак зодиака: Скорпион')\n",
    "elif(23 <= day <= 30 and month == 'Ноябрь') or (1 <= day <= 22 and month == 'Декабрь'):\n",
    "    print('Ваш знак зодиака: Стрелец')\n",
    "elif(23 <= day <= 31 and month == 'Декабрь') or (1 <= day <= 20 and month == 'Январь'):\n",
    "    print('Ваш знак зодиака: Козерог')\n",
    "elif(21 <= day <= 30 and month == 'Январь') or (1 <= day <= 19 and month == 'Февраль'):\n",
    "    print('Ваш знак зодиака: Водолей')\n",
    "elif(20 <= day <= 30 and month == 'Февраль') or (1 <= day <= 20 and month == 'Март'):\n",
    "    print('Ваш знак зодиака: Рыбы')\n",
    "else:\n",
    "    print('Ваш знак задиака не определён')"
   ]
  },
  {
   "cell_type": "markdown",
   "metadata": {},
   "source": [
    "### Задание 4\n",
    "\n",
    "Исправи, теперь всё нормально работает"
   ]
  },
  {
   "cell_type": "code",
   "execution_count": 24,
   "metadata": {},
   "outputs": [
    {
     "name": "stdout",
     "output_type": "stream",
     "text": [
      "Упаковка для лыж\n"
     ]
    }
   ],
   "source": [
    "width = 45\n",
    "length = 205\n",
    "height = 45\n",
    "\n",
    "if width < 15 and length < 15 and height < 15:\n",
    "    print ('Коробка №1')\n",
    "elif length > 200:\n",
    "    print ('Упаковка для лыж')\n",
    "elif 15 < width < 50 or 15 < length < 50 or 15 < height < 50:\n",
    "    print ('Коробка №2')\n",
    "else:\n",
    "    print ('Стандартная коробка №3')"
   ]
  },
  {
   "cell_type": "markdown",
   "metadata": {},
   "source": [
    "### Задание 5"
   ]
  },
  {
   "cell_type": "code",
   "execution_count": 76,
   "metadata": {},
   "outputs": [
    {
     "name": "stdout",
     "output_type": "stream",
     "text": [
      "Результат:\n",
      "Счастливый билет\n"
     ]
    }
   ],
   "source": [
    "number = 123321\n",
    "print('Результат:')\n",
    "one = number // 100000\n",
    "two = (number // 10000) % 10\n",
    "three = (number % 10000) // 1000\n",
    "four = (number % 1000) // 100\n",
    "five = (number % 100) // 10\n",
    "six = (number % 10)\n",
    "\n",
    "if (one + two + three)  == (four + five + six):\n",
    "    print('Счастливый билет')\n",
    "else:\n",
    "    print('Несчастливый билет')"
   ]
  },
  {
   "cell_type": "markdown",
   "metadata": {},
   "source": [
    "### Задание 6"
   ]
  },
  {
   "cell_type": "code",
   "execution_count": 39,
   "metadata": {},
   "outputs": [
    {
     "name": "stdout",
     "output_type": "stream",
     "text": [
      "Введите тип фигуры: треугольник\n",
      "Введите длину стороны А: 2\n",
      "Введите длину стороны B: 2\n",
      "Введите длину стороны C: 3\n",
      "Результат: \n",
      "Площадь треугольника равна:  1.984313483298443\n"
     ]
    }
   ],
   "source": [
    "figure = str(input('Введите тип фигуры: '))\n",
    "if figure == 'круг':\n",
    "    radius = int(input('Введите радиус круга: '))\n",
    "    Sk = 3,1415926535 * (radius ** 2)\n",
    "    print('Результат: ')\n",
    "    print('Площадь круга равна: ', Sk )\n",
    "elif figure == 'треугольник':\n",
    "    At = int(input('Введите длину стороны А: '))\n",
    "    Bt = int(input('Введите длину стороны B: '))\n",
    "    Ct = int(input('Введите длину стороны C: '))\n",
    "    pt = (At + Bt + Ct)/2\n",
    "    from math import sqrt\n",
    "    St = sqrt(pt*(pt-At)*(pt-Bt)*(pt-Ct))\n",
    "    print('Результат: ')\n",
    "    print ('Площадь треугольника равна: ', St)\n",
    "elif figure == 'прямоугольник':\n",
    "    Ap = int(input('Введите длину стороны А: '))\n",
    "    Bp = int(input('Введите длину стороны B: '))\n",
    "    Sp = Ap * Bp\n",
    "    print('Результат: ')\n",
    "    print ('Площадь прямоугольника равна: ', Sp)\n",
    "else:\n",
    "    print('Неверно введено название фигуры')"
   ]
  }
 ],
 "metadata": {
  "kernelspec": {
   "display_name": "Python 3",
   "language": "python",
   "name": "python3"
  },
  "language_info": {
   "codemirror_mode": {
    "name": "ipython",
    "version": 3
   },
   "file_extension": ".py",
   "mimetype": "text/x-python",
   "name": "python",
   "nbconvert_exporter": "python",
   "pygments_lexer": "ipython3",
   "version": "3.8.5"
  }
 },
 "nbformat": 4,
 "nbformat_minor": 4
}
