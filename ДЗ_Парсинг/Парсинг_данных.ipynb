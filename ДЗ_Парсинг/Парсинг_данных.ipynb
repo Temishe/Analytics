{
 "cells": [
  {
   "cell_type": "markdown",
   "metadata": {},
   "source": [
    "# Задание 1. готово\n",
    "\n",
    "Будем парсить страницу со свежеми новостям на habr.com/ru/all/.\n",
    "\n",
    "Вам необходимо собирать только те статьи, в которых встречается хотя бы одно требуемое ключевое слово. Эти слова определяем в начале кода в переменной, например:\n",
    "KEYWORDS = ['python', 'парсинг']\n",
    "\n",
    "Поиск вести по всей доступной preview-информации (это информация, доступная непосредственно с текущей страницы).\n",
    "\n",
    "В итоге должен формироваться датафрейм вида: <дата> - <заголовок> - <ссылка>"
   ]
  },
  {
   "cell_type": "code",
   "execution_count": 1,
   "metadata": {},
   "outputs": [],
   "source": [
    "KEYWORDS = ['python', 'парсинг']"
   ]
  },
  {
   "cell_type": "code",
   "execution_count": 3,
   "metadata": {},
   "outputs": [],
   "source": [
    "from bs4 import BeautifulSoup\n",
    "import time\n",
    "import requests"
   ]
  },
  {
   "cell_type": "code",
   "execution_count": 4,
   "metadata": {},
   "outputs": [],
   "source": [
    "req = requests.get('https://habr.com/ru/all/')\n",
    "soup = BeautifulSoup(req.text, 'html.parser')"
   ]
  },
  {
   "cell_type": "code",
   "execution_count": 107,
   "metadata": {},
   "outputs": [],
   "source": [
    "posts = soup.find_all('article', class_='post')"
   ]
  },
  {
   "cell_type": "code",
   "execution_count": 108,
   "metadata": {},
   "outputs": [
    {
     "name": "stdout",
     "output_type": "stream",
     "text": [
      "<сегодня в 10:09> - <Telegram-бот на Python для создания задач в MS Outlook и заметок в Evernote> - <https://habr.com/ru/post/549408/>\n"
     ]
    }
   ],
   "source": [
    "for post in posts:\n",
    "    hubs = post.find_all('a', class_='hub-link')\n",
    "    for hub in hubs:\n",
    "            hub_lower = hub.text.lower()\n",
    "            for key in KEYWORDS:\n",
    "                if hub_lower == key:\n",
    "                    title_element = post.find('a', class_='post__title_link')\n",
    "                    data_element = post.find('span', class_='post__time')\n",
    "                    print(f\"<{data_element.text}> - <{title_element.text}> - <{title_element.attrs.get('href')}>\")"
   ]
  },
  {
   "cell_type": "markdown",
   "metadata": {},
   "source": [
    "# Задание 2.\n",
    "\n",
    "Написать скрипт, который будет проверять список e-mail адресов на утечку при помощи сервиса Avast Hack Ckeck. Список email-ов задаем переменной в начале кода:\n",
    "EMAIL = [xxx@x.ru, yyy@y.com]\n",
    "\n",
    "В итоге должен формироваться датафрейм со столбцами: <почта> - <дата утечки> - <источник утечки> - <описание утечки>\n",
    "\n",
    "Подсказка: сервис работает при помощи \"скрытого\" API. Внимательно изучите post-запросы."
   ]
  },
  {
   "cell_type": "code",
   "execution_count": 103,
   "metadata": {},
   "outputs": [],
   "source": [
    "import json"
   ]
  },
  {
   "cell_type": "code",
   "execution_count": 104,
   "metadata": {},
   "outputs": [],
   "source": [
    "import pandas as pd"
   ]
  },
  {
   "cell_type": "code",
   "execution_count": 113,
   "metadata": {},
   "outputs": [],
   "source": [
    "# Получаю данные (ему вечно не хватало headers, так что я просто добавил все):\n",
    "\n",
    "URL = 'https://identityprotection.avast.com/v1/web/query/site-breaches/unauthorized-data'\n",
    "data = {\n",
    "    \"emailAddresses\":[\"007.777_95@mail.ru\"]\n",
    "}\n",
    "headers = {\n",
    "    'Vaar-Version': '0',\n",
    "    'Content-Type': 'application/json;charset=utf-8',\n",
    "    'Accept': 'application/json, text/plain, */*',\n",
    "    'Accept-Language': 'ru',\n",
    "    'Accept-Encoding': 'gzip, deflate, br',\n",
    "    'Host': 'identityprotection.avast.com',\n",
    "    'Origin': 'https://www.avast.com',\n",
    "    'User-Agent': 'Mozilla/5.0 (Macintosh; Intel Mac OS X 10_15_6) AppleWebKit/605.1.15 (KHTML, like Gecko) Version/14.0.3 Safari/605.1.15',\n",
    "    'Referer': 'https://www.avast.com/hackcheck/',\n",
    "    'Content-Length': '34',\n",
    "    'Connection': 'keep-alive',\n",
    "    'Vaar-Header-App-Product-Name': 'hackcheck-web-avast',\n",
    "    'Vaar-Version': '0',\n",
    "    'Vaar-Header-App-Product': 'hackcheck-web-avast',\n",
    "    'Vaar-Header-App-Build-Version': '1.0.0'\n",
    "}\n",
    "    \n",
    "time.sleep(0.3)\n",
    "req = requests.post(URL, json = data , headers = headers)"
   ]
  },
  {
   "cell_type": "code",
   "execution_count": 114,
   "metadata": {},
   "outputs": [],
   "source": [
    "# Перевел все в нормальный вид:\n",
    "time.sleep(0.3)\n",
    "data = json.loads(req.text)"
   ]
  },
  {
   "cell_type": "code",
   "execution_count": 115,
   "metadata": {
    "collapsed": true,
    "jupyter": {
     "outputs_hidden": true
    }
   },
   "outputs": [
    {
     "ename": "TypeError",
     "evalue": "'NoneType' object is not subscriptable",
     "output_type": "error",
     "traceback": [
      "\u001b[0;31m---------------------------------------------------------------------------\u001b[0m",
      "\u001b[0;31mTypeError\u001b[0m                                 Traceback (most recent call last)",
      "\u001b[0;32m<ipython-input-115-66d75fe4adcd>\u001b[0m in \u001b[0;36m<module>\u001b[0;34m\u001b[0m\n\u001b[1;32m      1\u001b[0m \u001b[0;31m# Пробую добавить это все в датафрейм:\u001b[0m\u001b[0;34m\u001b[0m\u001b[0;34m\u001b[0m\u001b[0;34m\u001b[0m\u001b[0m\n\u001b[1;32m      2\u001b[0m \u001b[0;34m\u001b[0m\u001b[0m\n\u001b[0;32m----> 3\u001b[0;31m \u001b[0mkeys\u001b[0m \u001b[0;34m=\u001b[0m \u001b[0mdata\u001b[0m\u001b[0;34m[\u001b[0m\u001b[0;34m'breaches'\u001b[0m\u001b[0;34m]\u001b[0m\u001b[0;34m.\u001b[0m\u001b[0mkeys\u001b[0m\u001b[0;34m(\u001b[0m\u001b[0;34m)\u001b[0m\u001b[0;34m\u001b[0m\u001b[0;34m\u001b[0m\u001b[0m\n\u001b[0m\u001b[1;32m      4\u001b[0m \u001b[0msite\u001b[0m \u001b[0;34m=\u001b[0m \u001b[0;34m[\u001b[0m\u001b[0;34m]\u001b[0m\u001b[0;34m\u001b[0m\u001b[0;34m\u001b[0m\u001b[0m\n\u001b[1;32m      5\u001b[0m \u001b[0mdate\u001b[0m \u001b[0;34m=\u001b[0m \u001b[0;34m[\u001b[0m\u001b[0;34m]\u001b[0m\u001b[0;34m\u001b[0m\u001b[0;34m\u001b[0m\u001b[0m\n",
      "\u001b[0;31mTypeError\u001b[0m: 'NoneType' object is not subscriptable"
     ]
    }
   ],
   "source": [
    "# Пробую добавить это все в датафрейм:\n",
    "\n",
    "keys = data['breaches'].keys()\n",
    "site = []\n",
    "date = []\n",
    "descr = []\n",
    "mail = []\n",
    "for i in keys:\n",
    "    site.append(data['breaches'][i]['site'])\n",
    "    date.append(data['breaches'][i]['publishDate'])\n",
    "    descr.append(data['breaches'][i]['description'])\n",
    "    mail.append('temishe@gmail.com')\n",
    "\n",
    "df = pd.DataFrame({'почта': mail, 'дата утечки': date, 'источник утечки': site, 'описание утечки': descr})"
   ]
  },
  {
   "cell_type": "code",
   "execution_count": 112,
   "metadata": {},
   "outputs": [
    {
     "data": {
      "text/html": [
       "<div>\n",
       "<style scoped>\n",
       "    .dataframe tbody tr th:only-of-type {\n",
       "        vertical-align: middle;\n",
       "    }\n",
       "\n",
       "    .dataframe tbody tr th {\n",
       "        vertical-align: top;\n",
       "    }\n",
       "\n",
       "    .dataframe thead th {\n",
       "        text-align: right;\n",
       "    }\n",
       "</style>\n",
       "<table border=\"1\" class=\"dataframe\">\n",
       "  <thead>\n",
       "    <tr style=\"text-align: right;\">\n",
       "      <th></th>\n",
       "      <th>почта</th>\n",
       "      <th>дата утечки</th>\n",
       "      <th>источник утечки</th>\n",
       "      <th>описание утечки</th>\n",
       "    </tr>\n",
       "  </thead>\n",
       "  <tbody>\n",
       "    <tr>\n",
       "      <th>0</th>\n",
       "      <td>temishe77@gmail.com</td>\n",
       "      <td>2020-07-23T00:00:00Z</td>\n",
       "      <td>wattpad.com</td>\n",
       "      <td>In June 2020, the online writing community Wat...</td>\n",
       "    </tr>\n",
       "    <tr>\n",
       "      <th>1</th>\n",
       "      <td>temishe77@gmail.com</td>\n",
       "      <td>2019-06-13T00:00:00Z</td>\n",
       "      <td>canva.com</td>\n",
       "      <td>In May 2019, graphic-design site Canva's datab...</td>\n",
       "    </tr>\n",
       "    <tr>\n",
       "      <th>2</th>\n",
       "      <td>temishe77@gmail.com</td>\n",
       "      <td>2016-10-21T00:00:00Z</td>\n",
       "      <td>adobe.com</td>\n",
       "      <td>In October of 2013, criminals penetrated Adobe...</td>\n",
       "    </tr>\n",
       "    <tr>\n",
       "      <th>3</th>\n",
       "      <td>temishe77@gmail.com</td>\n",
       "      <td>2021-02-04T00:00:00Z</td>\n",
       "      <td>rzd-bonus.ru</td>\n",
       "      <td>In June 2020, the Russian Railways Bonus Progr...</td>\n",
       "    </tr>\n",
       "    <tr>\n",
       "      <th>4</th>\n",
       "      <td>007.777_95@mail.ru</td>\n",
       "      <td>2016-10-21T00:00:00Z</td>\n",
       "      <td>myspace.com</td>\n",
       "      <td>Shortly before the 2016 Memorial Day weekend, ...</td>\n",
       "    </tr>\n",
       "    <tr>\n",
       "      <th>5</th>\n",
       "      <td>007.777_95@mail.ru</td>\n",
       "      <td>2017-11-04T00:00:00Z</td>\n",
       "      <td>myheritage.com</td>\n",
       "      <td>In October 2017, a customer database belonging...</td>\n",
       "    </tr>\n",
       "    <tr>\n",
       "      <th>6</th>\n",
       "      <td>007.777_95@mail.ru</td>\n",
       "      <td>2017-02-14T00:00:00Z</td>\n",
       "      <td>parapa.mail.ru</td>\n",
       "      <td>In July and August 2016, two criminals execute...</td>\n",
       "    </tr>\n",
       "    <tr>\n",
       "      <th>7</th>\n",
       "      <td>007.777_95@mail.ru</td>\n",
       "      <td>2017-06-14T00:00:00Z</td>\n",
       "      <td>nnm-club.me</td>\n",
       "      <td>In September 2013, Russian torrent tracker NNM...</td>\n",
       "    </tr>\n",
       "    <tr>\n",
       "      <th>8</th>\n",
       "      <td>007.777_95@mail.ru</td>\n",
       "      <td>2016-10-29T00:00:00Z</td>\n",
       "      <td>vk.com</td>\n",
       "      <td>Popular Russian social networking platform VKo...</td>\n",
       "    </tr>\n",
       "  </tbody>\n",
       "</table>\n",
       "</div>"
      ],
      "text/plain": [
       "                 почта           дата утечки источник утечки  \\\n",
       "0  temishe77@gmail.com  2020-07-23T00:00:00Z     wattpad.com   \n",
       "1  temishe77@gmail.com  2019-06-13T00:00:00Z       canva.com   \n",
       "2  temishe77@gmail.com  2016-10-21T00:00:00Z       adobe.com   \n",
       "3  temishe77@gmail.com  2021-02-04T00:00:00Z    rzd-bonus.ru   \n",
       "4   007.777_95@mail.ru  2016-10-21T00:00:00Z     myspace.com   \n",
       "5   007.777_95@mail.ru  2017-11-04T00:00:00Z  myheritage.com   \n",
       "6   007.777_95@mail.ru  2017-02-14T00:00:00Z  parapa.mail.ru   \n",
       "7   007.777_95@mail.ru  2017-06-14T00:00:00Z     nnm-club.me   \n",
       "8   007.777_95@mail.ru  2016-10-29T00:00:00Z          vk.com   \n",
       "\n",
       "                                     описание утечки  \n",
       "0  In June 2020, the online writing community Wat...  \n",
       "1  In May 2019, graphic-design site Canva's datab...  \n",
       "2  In October of 2013, criminals penetrated Adobe...  \n",
       "3  In June 2020, the Russian Railways Bonus Progr...  \n",
       "4  Shortly before the 2016 Memorial Day weekend, ...  \n",
       "5  In October 2017, a customer database belonging...  \n",
       "6  In July and August 2016, two criminals execute...  \n",
       "7  In September 2013, Russian torrent tracker NNM...  \n",
       "8  Popular Russian social networking platform VKo...  "
      ]
     },
     "execution_count": 112,
     "metadata": {},
     "output_type": "execute_result"
    }
   ],
   "source": [
    "# Собираю это всё в функцию:\n",
    "\n",
    "def check_email():\n",
    "    EMAIL = ['temishe77@gmail.com', '007.777_95@mail.ru']\n",
    "    site = []\n",
    "    date = []\n",
    "    descr = []\n",
    "    mail = []\n",
    "    for email in EMAIL:\n",
    "        time.sleep(0.3)\n",
    "        URL = 'https://identityprotection.avast.com/v1/web/query/site-breaches/unauthorized-data'\n",
    "        data = {\n",
    "            \"emailAddresses\":[email]\n",
    "        }\n",
    "        headers = {\n",
    "        'Vaar-Version': '0',\n",
    "        'Content-Type': 'application/json;charset=utf-8',\n",
    "        'Accept': 'application/json, text/plain, */*',\n",
    "        'Accept-Language': 'ru',\n",
    "        'Accept-Encoding': 'gzip, deflate, br',\n",
    "        'Host': 'identityprotection.avast.com',\n",
    "        'Origin': 'https://www.avast.com',\n",
    "        'User-Agent': 'Mozilla/5.0 (Macintosh; Intel Mac OS X 10_15_6) AppleWebKit/605.1.15 (KHTML, like Gecko) Version/14.0.3 Safari/605.1.15',\n",
    "        'Referer': 'https://www.avast.com/hackcheck/',\n",
    "        'Content-Length': '34',\n",
    "        'Connection': 'keep-alive',\n",
    "        'Vaar-Header-App-Product-Name': 'hackcheck-web-avast',\n",
    "        'Vaar-Version': '0',\n",
    "        'Vaar-Header-App-Product': 'hackcheck-web-avast',\n",
    "        'Vaar-Header-App-Build-Version': '1.0.0'\n",
    "        }\n",
    "\n",
    "        req = requests.post(URL, json = data , headers = headers)\n",
    "        \n",
    "        data = json.loads(req.text)\n",
    "        \n",
    "        keys = data['breaches'].keys()\n",
    "        \n",
    "        for i in keys:\n",
    "            site.append(data['breaches'][i]['site'])\n",
    "            date.append(data['breaches'][i]['publishDate'])\n",
    "            descr.append(data['breaches'][i]['description'])\n",
    "            mail.append(email)\n",
    "\n",
    "    df = pd.DataFrame({'почта': mail, 'дата утечки': date, 'источник утечки': site, 'описание утечки': descr})\n",
    "    return df\n",
    "\n",
    "check_email()"
   ]
  },
  {
   "cell_type": "code",
   "execution_count": null,
   "metadata": {},
   "outputs": [],
   "source": []
  }
 ],
 "metadata": {
  "kernelspec": {
   "display_name": "Python 3",
   "language": "python",
   "name": "python3"
  },
  "language_info": {
   "codemirror_mode": {
    "name": "ipython",
    "version": 3
   },
   "file_extension": ".py",
   "mimetype": "text/x-python",
   "name": "python",
   "nbconvert_exporter": "python",
   "pygments_lexer": "ipython3",
   "version": "3.8.5"
  }
 },
 "nbformat": 4,
 "nbformat_minor": 4
}
