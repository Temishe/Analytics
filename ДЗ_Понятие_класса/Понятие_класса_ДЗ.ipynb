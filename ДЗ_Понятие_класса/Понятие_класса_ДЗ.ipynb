{
 "cells": [
  {
   "cell_type": "code",
   "execution_count": 1,
   "metadata": {},
   "outputs": [],
   "source": [
    "import requests"
   ]
  },
  {
   "cell_type": "markdown",
   "metadata": {},
   "source": [
    "# Задание 1 и Задание 2\n",
    "\n",
    "* Напишите функцию, которая возвращает название валюты (поле ‘Name’) с максимальным значением курса с помощью сервиса https://www.cbr-xml-daily.ru/daily_json.js\n",
    "\n",
    "* Добавьте в класс Rate параметр diff (со значениями True или False), который в случае значения True в методах курсов валют (eur, usd итд) будет возвращать не курс валюты, а изменение по сравнению в прошлым значением. Считайте, self.diff будет принимать значение True только при возврате значения курса. При отображении всей информации о валюте он не используется."
   ]
  },
  {
   "cell_type": "code",
   "execution_count": 104,
   "metadata": {},
   "outputs": [],
   "source": [
    "class Rate:\n",
    "    def __init__(self, diff = 'False'):\n",
    "        self.diff = diff\n",
    "    \n",
    "    def pull(self):\n",
    "        self.r = requests.get('https://www.cbr-xml-daily.ru/daily_json.js')\n",
    "        return self.r.json()['Valute']\n",
    "    \n",
    "    def make_format(self, currency):\n",
    "      \n",
    "        response = self.pull()\n",
    "        \n",
    "        if currency in response:\n",
    "            if self.diff == 'False':\n",
    "                a = self.r.json()['Valute'][currency]['Name'], self.r.json()['Valute'][currency]['Value']\n",
    "                print('Текущий курс: ')\n",
    "                for i in a:\n",
    "                    print(i)\n",
    "            if self.diff == 'True':\n",
    "                a =  self.r.json()['Valute'][currency]['Name'], (self.r.json()['Valute'][currency]['Value'] - self.r.json()['Valute'][currency]['Previous'])\n",
    "                print('Изменение в курсе: ')\n",
    "                for i in a:\n",
    "                    print(i)\n",
    "\n",
    "    def eur(self):\n",
    "        return self.make_format('EUR')\n",
    "    \n",
    "    def usd(self):\n",
    "        return self.make_format('USD')"
   ]
  },
  {
   "cell_type": "code",
   "execution_count": 110,
   "metadata": {},
   "outputs": [],
   "source": [
    "now = Rate()"
   ]
  },
  {
   "cell_type": "code",
   "execution_count": 111,
   "metadata": {},
   "outputs": [
    {
     "name": "stdout",
     "output_type": "stream",
     "text": [
      "Текущий курс: \n",
      "Евро\n",
      "88.87\n"
     ]
    }
   ],
   "source": [
    "now.eur()"
   ]
  },
  {
   "cell_type": "code",
   "execution_count": 112,
   "metadata": {},
   "outputs": [],
   "source": [
    "dif = Rate(diff='True')"
   ]
  },
  {
   "cell_type": "code",
   "execution_count": 113,
   "metadata": {},
   "outputs": [
    {
     "name": "stdout",
     "output_type": "stream",
     "text": [
      "Изменение в курсе: \n",
      "Доллар США\n",
      "0.008599999999987062\n"
     ]
    }
   ],
   "source": [
    "dif.usd()"
   ]
  },
  {
   "cell_type": "markdown",
   "metadata": {},
   "source": [
    "# Задание 3\n",
    "Задание 3\n",
    "Напишите класс Designer, который учитывает количество международных премий. Подсказки в коде занятия в разделе “Домашнее задание задача 3”.\n",
    "\n",
    "Комментарий по классу Designer такой:\n",
    "Напишите класс Designer, который учитывает количество международных премий для дизайнеров (из презентации: “Повышение на 1 грейд за каждые 7 баллов. Получение международной премии – это +2 балла”). Считайте, что при выходе на работу сотрудник уже имеет две премии и их количество не меняется со стажем (конечно если хотите это можно вручную менять).\n",
    "\n",
    "Класс Designer пишется по аналогии с классом Developer из материалов занятия. Комментарий про его условия Вика написала выше: “Повышение на 1 грейд за каждые 7 баллов. Получение международной премии – это +2 балла”"
   ]
  },
  {
   "cell_type": "code",
   "execution_count": 199,
   "metadata": {},
   "outputs": [],
   "source": [
    "class Employee:\n",
    "\n",
    "    def __init__(self, name, seniority):\n",
    "        self.name = name\n",
    "        self.seniority = seniority\n",
    "        \n",
    "        self.grade = 1\n",
    "    \n",
    "    def grade_up(self):\n",
    "        \"\"\"Повышает уровень сотрудника\"\"\"\n",
    "        self.grade += 1\n",
    "    \n",
    "    def publish_grade(self):\n",
    "        \"\"\"Публикация результатов аккредитации сотрудников\"\"\"\n",
    "        print(self.name, self.grade)\n",
    "    \n",
    "    def check_if_it_is_time_for_upgrade(self):\n",
    "        pass"
   ]
  },
  {
   "cell_type": "code",
   "execution_count": 206,
   "metadata": {},
   "outputs": [],
   "source": [
    "class Designer(Employee):\n",
    "    \"\"\"Укажите сотрудника в формате 'Имя', уровень, кол-во премий (по умолчанию - 2)\"\"\"\n",
    "    def __init__(self, name, seniority, aword = 2):\n",
    "        super().__init__(name, seniority)\n",
    "        self.aword = aword\n",
    "        self.seniority = seniority + aword\n",
    "        \n",
    "    def time_for_upgrade(self):\n",
    "        \n",
    "        self.seniority += 1\n",
    "        \n",
    " \n",
    "        if self.seniority % 7 == 0:\n",
    "            self.grade_up()\n",
    "            \n",
    "            print('-----------') # Просто для себя\n",
    "        \n",
    "\n",
    "        return self.publish_grade()"
   ]
  },
  {
   "cell_type": "code",
   "execution_count": 213,
   "metadata": {},
   "outputs": [],
   "source": [
    "kate = Designer('Kate', 0)"
   ]
  },
  {
   "cell_type": "code",
   "execution_count": 214,
   "metadata": {},
   "outputs": [
    {
     "name": "stdout",
     "output_type": "stream",
     "text": [
      "Kate 1\n",
      "Kate 1\n",
      "Kate 1\n",
      "Kate 1\n",
      "-----------\n",
      "Kate 2\n",
      "Kate 2\n",
      "Kate 2\n",
      "Kate 2\n",
      "Kate 2\n",
      "Kate 2\n",
      "Kate 2\n",
      "-----------\n",
      "Kate 3\n",
      "Kate 3\n",
      "Kate 3\n",
      "Kate 3\n",
      "Kate 3\n",
      "Kate 3\n",
      "Kate 3\n",
      "-----------\n",
      "Kate 4\n",
      "Kate 4\n",
      "Kate 4\n"
     ]
    }
   ],
   "source": [
    "for i in range(21):\n",
    "    kate.time_for_upgrade()"
   ]
  },
  {
   "cell_type": "code",
   "execution_count": null,
   "metadata": {},
   "outputs": [],
   "source": []
  }
 ],
 "metadata": {
  "kernelspec": {
   "display_name": "Python 3",
   "language": "python",
   "name": "python3"
  },
  "language_info": {
   "codemirror_mode": {
    "name": "ipython",
    "version": 3
   },
   "file_extension": ".py",
   "mimetype": "text/x-python",
   "name": "python",
   "nbconvert_exporter": "python",
   "pygments_lexer": "ipython3",
   "version": "3.8.5"
  }
 },
 "nbformat": 4,
 "nbformat_minor": 4
}
