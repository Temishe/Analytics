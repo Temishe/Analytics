{
 "cells": [
  {
   "cell_type": "markdown",
   "metadata": {},
   "source": [
    "# Задание 1\n"
   ]
  },
  {
   "cell_type": "code",
   "execution_count": 16,
   "metadata": {},
   "outputs": [],
   "source": [
    "import json"
   ]
  },
  {
   "cell_type": "code",
   "execution_count": 114,
   "metadata": {},
   "outputs": [],
   "source": [
    "with open('purchase_log.txt', 'r') as data1:\n",
    "    with open('purchases.txt', 'w') as data2: \n",
    "        \n",
    "        data1 = data1.readlines()\n",
    "        c = {}\n",
    "        for i in data1:\n",
    "            i = json.loads(i)\n",
    "            c[f\"{i['user_id']}\"] = f\"{i['category']}\"\n",
    "        data2.write(json.dumps(c))\n",
    "        "
   ]
  },
  {
   "cell_type": "markdown",
   "metadata": {},
   "source": [
    "# Задание 2"
   ]
  },
  {
   "cell_type": "code",
   "execution_count": 247,
   "metadata": {},
   "outputs": [],
   "source": [
    "with open('visit_log.csv', 'r') as data3:\n",
    "    with open('purchases.txt', 'r') as data4:\n",
    "        with open('funnel.csv', 'w') as data5:\n",
    "            data3_ = []\n",
    "            for i in data3:\n",
    "                data3_.append(i.strip('\\n').split(','))\n",
    "                \n",
    "            data4 = data4.readline()\n",
    "            data4 = json.loads(data4)\n",
    "            for i in data3_:\n",
    " \n",
    "                if str(i[0]) in data4.keys():\n",
    "                    data5.write(f\"{str(i)}\\n\")\n",
    "                else:\n",
    "                    pass"
   ]
  },
  {
   "cell_type": "code",
   "execution_count": null,
   "metadata": {},
   "outputs": [],
   "source": []
  }
 ],
 "metadata": {
  "kernelspec": {
   "display_name": "Python 3",
   "language": "python",
   "name": "python3"
  },
  "language_info": {
   "codemirror_mode": {
    "name": "ipython",
    "version": 3
   },
   "file_extension": ".py",
   "mimetype": "text/x-python",
   "name": "python",
   "nbconvert_exporter": "python",
   "pygments_lexer": "ipython3",
   "version": "3.8.5"
  }
 },
 "nbformat": 4,
 "nbformat_minor": 4
}
